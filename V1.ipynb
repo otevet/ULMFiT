{
  "cells": [
    {
      "cell_type": "code",
      "source": [
        "# import libraries\n",
        "import fastai\n",
        "from fastai import *\n",
        "from fastai.text import * \n",
        "import pandas as pd\n",
        "import numpy as np\n",
        "from functools import partial\n",
        "import io\n",
        "import os\n",
        "\n",
        "from sklearn.model_selection import train_test_split\n",
        "from sklearn.metrics import precision_score, recall_score, accuracy_score, f1_score, classification_report, roc_curve, auc, roc_auc_score, hamming_loss, average_precision_score"
      ],
      "outputs": [],
      "execution_count": 3,
      "metadata": {}
    },
    {
      "cell_type": "code",
      "source": [
        "print(fastai.__version__)"
      ],
      "outputs": [
        {
          "output_type": "stream",
          "name": "stdout",
          "text": [
            "1.0.51\n"
          ]
        }
      ],
      "execution_count": 4,
      "metadata": {}
    },
    {
      "cell_type": "code",
      "source": [
        "!wget https://storage.googleapis.com/aptsv_mock/DATA_HADM_CLEANED.csv.tar.gz\n",
        "!tar zxvf DATA_HADM_CLEANED.csv.tar.gz"
      ],
      "outputs": [
        {
          "output_type": "stream",
          "name": "stdout",
          "text": [
            "--2019-04-11 18:09:21--  https://storage.googleapis.com/aptsv_mock/DATA_HADM_CLEANED.csv.tar.gz\n",
            "Resolving storage.googleapis.com (storage.googleapis.com)... 74.125.20.128, 2607:f8b0:400e:c07::80\n",
            "Connecting to storage.googleapis.com (storage.googleapis.com)|74.125.20.128|:443... connected.\n",
            "HTTP request sent, awaiting response... 200 OK\n",
            "Length: 80337665 (77M) [application/x-gzip]\n",
            "Saving to: ‘DATA_HADM_CLEANED.csv.tar.gz’\n",
            "\n",
            "DATA_HADM_CLEANED.c 100%[===================>]  76.62M  52.3MB/s    in 1.5s    \n",
            "\n",
            "2019-04-11 18:09:23 (52.3 MB/s) - ‘DATA_HADM_CLEANED.csv.tar.gz’ saved [80337665/80337665]\n",
            "\n",
            "DATA_HADM_CLEANED.csv\n"
          ]
        }
      ],
      "execution_count": 5,
      "metadata": {}
    },
    {
      "cell_type": "code",
      "source": [
        "df = pd.read_csv('DATA_HADM_CLEANED.csv')\n",
        "df.head()"
      ],
      "outputs": [
        {
          "output_type": "execute_result",
          "execution_count": 6,
          "data": {
            "text/html": [
              "<div>\n",
              "<style scoped>\n",
              "    .dataframe tbody tr th:only-of-type {\n",
              "        vertical-align: middle;\n",
              "    }\n",
              "\n",
              "    .dataframe tbody tr th {\n",
              "        vertical-align: top;\n",
              "    }\n",
              "\n",
              "    .dataframe thead th {\n",
              "        text-align: right;\n",
              "    }\n",
              "</style>\n",
              "<table border=\"1\" class=\"dataframe\">\n",
              "  <thead>\n",
              "    <tr style=\"text-align: right;\">\n",
              "      <th></th>\n",
              "      <th>id</th>\n",
              "      <th>4019</th>\n",
              "      <th>4280</th>\n",
              "      <th>42731</th>\n",
              "      <th>41401</th>\n",
              "      <th>5849</th>\n",
              "      <th>25000</th>\n",
              "      <th>2724</th>\n",
              "      <th>51881</th>\n",
              "      <th>5990</th>\n",
              "      <th>...</th>\n",
              "      <th>c511</th>\n",
              "      <th>c412</th>\n",
              "      <th>c707</th>\n",
              "      <th>c348</th>\n",
              "      <th>c765</th>\n",
              "      <th>cE88</th>\n",
              "      <th>c571</th>\n",
              "      <th>c300</th>\n",
              "      <th>c733</th>\n",
              "      <th>text</th>\n",
              "    </tr>\n",
              "  </thead>\n",
              "  <tbody>\n",
              "    <tr>\n",
              "      <th>0</th>\n",
              "      <td>117760</td>\n",
              "      <td>0</td>\n",
              "      <td>0</td>\n",
              "      <td>0</td>\n",
              "      <td>0</td>\n",
              "      <td>0</td>\n",
              "      <td>0</td>\n",
              "      <td>0</td>\n",
              "      <td>1</td>\n",
              "      <td>0</td>\n",
              "      <td>...</td>\n",
              "      <td>0</td>\n",
              "      <td>0</td>\n",
              "      <td>0</td>\n",
              "      <td>1</td>\n",
              "      <td>0</td>\n",
              "      <td>0</td>\n",
              "      <td>0</td>\n",
              "      <td>0</td>\n",
              "      <td>0</td>\n",
              "      <td>admission date discharge date date birth sex s...</td>\n",
              "    </tr>\n",
              "    <tr>\n",
              "      <th>1</th>\n",
              "      <td>129030</td>\n",
              "      <td>1</td>\n",
              "      <td>0</td>\n",
              "      <td>0</td>\n",
              "      <td>0</td>\n",
              "      <td>0</td>\n",
              "      <td>0</td>\n",
              "      <td>1</td>\n",
              "      <td>0</td>\n",
              "      <td>0</td>\n",
              "      <td>...</td>\n",
              "      <td>0</td>\n",
              "      <td>0</td>\n",
              "      <td>0</td>\n",
              "      <td>0</td>\n",
              "      <td>0</td>\n",
              "      <td>0</td>\n",
              "      <td>0</td>\n",
              "      <td>0</td>\n",
              "      <td>0</td>\n",
              "      <td>admission date discharge date date birth sex s...</td>\n",
              "    </tr>\n",
              "    <tr>\n",
              "      <th>2</th>\n",
              "      <td>172040</td>\n",
              "      <td>0</td>\n",
              "      <td>0</td>\n",
              "      <td>0</td>\n",
              "      <td>1</td>\n",
              "      <td>1</td>\n",
              "      <td>0</td>\n",
              "      <td>0</td>\n",
              "      <td>0</td>\n",
              "      <td>0</td>\n",
              "      <td>...</td>\n",
              "      <td>0</td>\n",
              "      <td>0</td>\n",
              "      <td>0</td>\n",
              "      <td>0</td>\n",
              "      <td>0</td>\n",
              "      <td>1</td>\n",
              "      <td>0</td>\n",
              "      <td>0</td>\n",
              "      <td>0</td>\n",
              "      <td>admission date discharge date service medicine...</td>\n",
              "    </tr>\n",
              "    <tr>\n",
              "      <th>3</th>\n",
              "      <td>156170</td>\n",
              "      <td>0</td>\n",
              "      <td>1</td>\n",
              "      <td>1</td>\n",
              "      <td>0</td>\n",
              "      <td>1</td>\n",
              "      <td>1</td>\n",
              "      <td>0</td>\n",
              "      <td>0</td>\n",
              "      <td>0</td>\n",
              "      <td>...</td>\n",
              "      <td>0</td>\n",
              "      <td>0</td>\n",
              "      <td>0</td>\n",
              "      <td>0</td>\n",
              "      <td>0</td>\n",
              "      <td>0</td>\n",
              "      <td>0</td>\n",
              "      <td>0</td>\n",
              "      <td>0</td>\n",
              "      <td>admission date discharge date service medicine...</td>\n",
              "    </tr>\n",
              "    <tr>\n",
              "      <th>4</th>\n",
              "      <td>199180</td>\n",
              "      <td>0</td>\n",
              "      <td>1</td>\n",
              "      <td>0</td>\n",
              "      <td>1</td>\n",
              "      <td>0</td>\n",
              "      <td>1</td>\n",
              "      <td>0</td>\n",
              "      <td>0</td>\n",
              "      <td>0</td>\n",
              "      <td>...</td>\n",
              "      <td>0</td>\n",
              "      <td>0</td>\n",
              "      <td>0</td>\n",
              "      <td>0</td>\n",
              "      <td>0</td>\n",
              "      <td>0</td>\n",
              "      <td>0</td>\n",
              "      <td>0</td>\n",
              "      <td>0</td>\n",
              "      <td>admission date discharge date service ccu hist...</td>\n",
              "    </tr>\n",
              "  </tbody>\n",
              "</table>\n",
              "<p>5 rows × 102 columns</p>\n",
              "</div>"
            ],
            "text/plain": [
              "       id  4019  4280  42731  41401  5849  25000  2724  51881  5990  ...  \\\n",
              "0  117760     0     0      0      0     0      0     0      1     0  ...   \n",
              "1  129030     1     0      0      0     0      0     1      0     0  ...   \n",
              "2  172040     0     0      0      1     1      0     0      0     0  ...   \n",
              "3  156170     0     1      1      0     1      1     0      0     0  ...   \n",
              "4  199180     0     1      0      1     0      1     0      0     0  ...   \n",
              "\n",
              "   c511  c412  c707  c348  c765  cE88  c571  c300  c733  \\\n",
              "0     0     0     0     1     0     0     0     0     0   \n",
              "1     0     0     0     0     0     0     0     0     0   \n",
              "2     0     0     0     0     0     1     0     0     0   \n",
              "3     0     0     0     0     0     0     0     0     0   \n",
              "4     0     0     0     0     0     0     0     0     0   \n",
              "\n",
              "                                                text  \n",
              "0  admission date discharge date date birth sex s...  \n",
              "1  admission date discharge date date birth sex s...  \n",
              "2  admission date discharge date service medicine...  \n",
              "3  admission date discharge date service medicine...  \n",
              "4  admission date discharge date service ccu hist...  \n",
              "\n[5 rows x 102 columns]"
            ]
          },
          "metadata": {}
        }
      ],
      "execution_count": 6,
      "metadata": {}
    },
    {
      "cell_type": "code",
      "source": [
        "c = df.filter(like='c').columns.tolist()"
      ],
      "outputs": [],
      "execution_count": 7,
      "metadata": {}
    },
    {
      "cell_type": "code",
      "source": [
        "df.drop(c, axis=1,inplace=True)\n",
        "df.drop('id', axis=1,inplace=True)"
      ],
      "outputs": [],
      "execution_count": 8,
      "metadata": {}
    },
    {
      "cell_type": "code",
      "source": [
        "train, valid = train_test_split(df, test_size = 0.2)\n",
        "len(train), len(valid)"
      ],
      "outputs": [
        {
          "output_type": "execute_result",
          "execution_count": 9,
          "data": {
            "text/plain": [
              "(42180, 10546)"
            ]
          },
          "metadata": {}
        }
      ],
      "execution_count": 9,
      "metadata": {}
    },
    {
      "cell_type": "code",
      "source": [
        "df.to_csv(\"df.csv\",index=False)#, header=None, index=False)"
      ],
      "outputs": [],
      "execution_count": 10,
      "metadata": {}
    },
    {
      "cell_type": "code",
      "source": [
        "train.to_csv(\"train.csv\", header=False, index=False)\n",
        "valid.to_csv(\"valid.csv\", header=False, index=False)"
      ],
      "outputs": [],
      "execution_count": 11,
      "metadata": {}
    },
    {
      "cell_type": "code",
      "source": [
        "path=''"
      ],
      "outputs": [],
      "execution_count": 12,
      "metadata": {}
    },
    {
      "cell_type": "code",
      "source": [
        "df.columns"
      ],
      "outputs": [
        {
          "output_type": "execute_result",
          "execution_count": 13,
          "data": {
            "text/plain": [
              "Index(['4019', '4280', '42731', '41401', '5849', '25000', '2724', '51881',\n",
              "       '5990', '53081', '2720', '2859', '2449', '486', '2851', '2762', '496',\n",
              "       '99592', 'V5861', '5070', '0389', '5859', '40390', '311', '3051', '412',\n",
              "       '2875', '41071', '2761', 'V4581', '4240', 'V1582', '5119', 'V4582',\n",
              "       '40391', 'V290', '4241', '78552', 'V5867', '42789', '32723', '9971',\n",
              "       '5845', '2760', '7742', '5180', 'V053', '4168', '49390', '2767',\n",
              "       'text'],\n",
              "      dtype='object')"
            ]
          },
          "metadata": {}
        }
      ],
      "execution_count": 13,
      "metadata": {}
    },
    {
      "cell_type": "code",
      "source": [
        "lab = df.columns.tolist()[0:-1]"
      ],
      "outputs": [],
      "execution_count": 14,
      "metadata": {}
    },
    {
      "cell_type": "code",
      "source": [
        "# Language model data\n",
        "data_lm = TextLMDataBunch.from_csv(path, 'df.csv',label_cols=lab, text_cols=['text'])"
      ],
      "outputs": [],
      "execution_count": 15,
      "metadata": {}
    },
    {
      "cell_type": "code",
      "source": [
        "# Classifier model data\n",
        "data_clas = TextClasDataBunch.from_csv(path, 'df.csv', vocab=data_lm.train_ds.vocab, bs=32,label_cols=lab, text_cols=['text'])"
      ],
      "outputs": [],
      "execution_count": 16,
      "metadata": {}
    },
    {
      "cell_type": "code",
      "source": [
        "data_lm.save('data_lm_export.pkl')\n",
        "data_clas.save('data_clas_export.pkl')"
      ],
      "outputs": [],
      "execution_count": 17,
      "metadata": {}
    },
    {
      "cell_type": "code",
      "source": [
        "learn = language_model_learner(data_lm, AWD_LSTM, drop_mult=0.3)"
      ],
      "outputs": [],
      "execution_count": 18,
      "metadata": {}
    },
    {
      "cell_type": "code",
      "source": [
        "learn.lr_find()\n",
        "learn.recorder.plot(skip_end=10)"
      ],
      "outputs": [
        {
          "output_type": "display_data",
          "data": {
            "text/html": [],
            "text/plain": [
              "<IPython.core.display.HTML object>"
            ]
          },
          "metadata": {}
        },
        {
          "output_type": "stream",
          "name": "stdout",
          "text": [
            "LR Finder is complete, type {learner_name}.recorder.plot() to see the graph.\n"
          ]
        },
        {
          "output_type": "display_data",
          "data": {
            "image/png": "[encoded data removed]",
            "text/plain": [
              "<Figure size 432x288 with 1 Axes>"
            ]
          },
          "metadata": {
            "needs_background": "light"
          }
        }
      ],
      "execution_count": 23,
      "metadata": {}
    },
    {
      "cell_type": "code",
      "source": [
        "learn.fit_one_cycle(1, 1e-2,moms=(0.8,0.7))"
      ],
      "outputs": [
        {
          "output_type": "display_data",
          "data": {
            "text/html": [
              "<table border=\"1\" class=\"dataframe\">\n",
              "  <thead>\n",
              "    <tr style=\"text-align: left;\">\n",
              "      <th>epoch</th>\n",
              "      <th>train_loss</th>\n",
              "      <th>valid_loss</th>\n",
              "      <th>accuracy</th>\n",
              "      <th>time</th>\n",
              "    </tr>\n",
              "  </thead>\n",
              "  <tbody>\n",
              "    <tr>\n",
              "      <td>0</td>\n",
              "      <td>3.947878</td>\n",
              "      <td>3.779886</td>\n",
              "      <td>0.382815</td>\n",
              "      <td>24:18</td>\n",
              "    </tr>\n",
              "  </tbody>\n",
              "</table>"
            ],
            "text/plain": [
              "<IPython.core.display.HTML object>"
            ]
          },
          "metadata": {}
        }
      ],
      "execution_count": 24,
      "metadata": {}
    },
    {
      "cell_type": "code",
      "source": [
        "learn.save('fit_head')\n",
        "learn.load('fit_head')"
      ],
      "outputs": [
        {
          "output_type": "execute_result",
          "execution_count": 25,
          "data": {
            "text/plain": [
              "LanguageLearner(data=TextLMDataBunch;\n",
              "\n",
              "Train: LabelList (42180 items)\n",
              "x: LMTextList\n",
              "xxbos admission date discharge date date birth sex service medicine allergies patient recorded known allergies drugs attending chief complaint lower extremity cellulitis major surgical invasive procedure paracentesis x5 intubation incision drainage left foot upper endoscopy sigmoidoscopy bronchoscopy broncheoalveolar lavage history present illness mr year old man history cirrhosis alcoholic hepatitis admitted due lle cellulitis started iv antibiotics time eventually broadened vanc zosyn left foot podiatry wound cultures left foot positive pansensitive klebsiella hospital course also complicated sbp given days treatment repeat diagnostic paracentesis negative patient began complaining worsening abodminal pain mental status began deteriorate also spiked fever subsequently bright red bowel movement context clinical change mr transferred micu care icu patient egd showed severe gastritis enteropathy one non bleeding grade varix flex sig showed bleeding hemorrhoids ct scan showed pneumotosis intestinalis thus patient unable receive lactulose mr eventually intubated due worsening mental status inability protect airway ng tube placed bowel decompression tpn started i d suggested broad spectrum antibiotics including dapto flagyl zosyn cefepime klebsiella grew wound sputum cultures otherwise ngt antibiotics tailored cefepime patient self extubated transferred back upon examination micu patient oriented self can not accurately explain think th instead th past medical history etoh abuse cirrhosis diagnosed egd screening varicies showed portal hypertensive gastropathy without esophageal gastric varicies gerd vre screen positive psoriasis onychomycosis social history living mother sister since hospitalization tobacco quit prior cigs day x years etoh pint qt per day whisky x years last drink per patient immediately prior hospitalization denies alcohol use since hospitalization drugs denies history cocaine ivdu hiv negative years ago family history father pancreatic cancer deceased sister breast cancer brother bladder cancer physical exam vs,xxbos name c unit admission date discharge date date birth sex f service following list discharge medications amiodarone mg po q day zinc sulfate mg po q day ascorbic acid mg po q day nph insulin units subq q units subq q pm regular insulin sliding scale epoetin units iv q hemodialysis acetaminophen mg po q4 h prn fever pain aspirin mg po q day heparin units subq q8h lansoprazole mg po q day calcium carbonate mg po tid meropenem mg iv q24h x17 days end tobramycin mg iv qod dialysis continuously docusate sodium mg po bid bisacodyl mg po q day prn constipation vancomycin gram iv whenever trough level followup patient followup primary care physician within one month also followup cardiothoracic surgery dr followup sternal wound dr dictated medquist36 job admission date date date birth sex f service admission diagnoses anoxic brain injury end stage renal disease hemodialysis sternal wound diabetes respiratory distress history present illness patient year old female status post long hospitalization culminating cabg x porcine avr aspiration infection sternal wound infection saphenous vein site infection status post g tube abdominal wall necrosis status post j tube arf requiring hemodialysis patient eventually discharged readmitted fever vicu sternal wound infection transferred rehab two days prior admission per report patient pea arrest status post epinephrine patient went v fib arrest status post mg joule shock converted fib patient transferred hospital late pm patient continued vent chest x ray ct showed bilateral lower lobe consolidation left upper lobe consolidation report hospital attributed mucous plugging vent associated pneumonia leading pea arrest also contributing elements hyperkalemia hypoxia hypovolemia patient initially episodes svt responded normal saline patient remained atrial fibrillation spontaneously converted sinus transferred continuity care past medical history coronary artery disease status post cabg x lima lad svg diagonal svg om sequential avr porcine end stage renal disease hemodialysis diabetes osa oa vertigo skin cancer history abdominal hernia repair uterine cancer status post tah obesity hypertension status post esophageal dilatation status post gastric bypass ventral hernia high cholesterol meds transfer prevacid reglan zofran iron zinc sulfate amiodarone vitamin c tobramycin vancomycin heparin epogen allergies known drug allergies social history patient rehab patient three sons family history mother grandmother died diabetes exam temperature heart rate blood pressure respiratory rate vent xxunk x14 fio2 pressure support peep general elderly woman chronically ill acute distress heent pupils equally round reactive light minimally op mucous membranes moist evidence eomi general patient responsive neck trach jvd lungs crackles left lower zone cardiovascular regular rate rhythm systolic murmur vi ejection murmur abdomen positive bowel sounds nontender nondistended evidence sternal wound draining suctioned vac evidence j tube entrance ventral hernia wound evidence wound left breast extremities left heel eschar right leg saphenous vein site erythematous neuro patient grimaces sternal rub follow commands positive xxunk positive grasp decreased deep tendon reflexes lower extremities babinski equivocal labs white blood cell count hematocrit platelets n l e electrolytes ct head showed bleed ct chest showed left upper lobe infiltrate bilateral pleural effusions bilateral consolidation abg inr t4 alt ast alk phos total bili labs white blood cell count hematocrit platelets n l electrolytes sodium k chloride bicarb bun creatinine platelets lactate abg fio2 tobra level vanc level pending hospital course please see previous hospitalization summaries outside hospital report head ct chronic degenerative changes chest ct report pe bilateral lower lobe consolidation effusions left upper lobe consolidation echo lvef greater rv function reduced mild mr assessment plan patient year old woman coronary artery disease cabg end stage renal disease diabetes status post pea arrest v fib fib sinus likely secondary hypoxia hyperkalemia cardiac status post arrest patient history arrest patient ruled enzymes arrest likely combination hypoxia mucous plugging well metabolic possible hyperkalemia hypercalcemia patient history normal echo patient rhythm sinus patient continued mg po qd patient placed telemetry monitored micu monitored electrolytes patient remained stable throughout hospitalization patient sternal wound placed vac pulmonary patient history vent trach dependent patient treated vanc tobra ceftaz flagyl given history vent associated given history antibiotic resistant organisms sputum showed gram negative rods await final sensitivities sputum patient o2 sats remained stable throughout hospitalization renal patient end stage renal disease hemodialysis patient obtained hemodialysis house endocrine patient diabetes sliding scale patient maintained sliding scale thyroid level checked normal i d patient one episode febrile patient since afebrile patient blood urine sputum cultures pending patient several wounds nonhealing nature patient evidence active pus drainage sites patient sternal wound set vac neuro patient evaluated neuro house given change mental status status post pea arrest patient initial diagnosis likely hypoxic damage resulting hypoxic event patient head ct showed changes mri obtained eeg obtained heme patient epogen hemodialysis fen patient electrolytes monitored house peripheral patient maintained subcu heparin protonix lines patient left quinton right subclavian peripherals code patient remained full plan discussed family pcp rehab patient also seen social worker house patient discharged rehab condition poor diagnoses anoxic brain injury end stage renal disease hemodialysis diabetes status post pulseless electrical activity dictated medquist36 job admission date discharge date date birth sex f service addendum neurological patient mri eeg evaluate neurologic status status post anoxic brain injury eeg showed diffuse encephalopathy mri showed severe edema patient neurologic status improved hospital course patient spontaneously opened eyes able slightly move extremities interact family renal patient continued hemodialysis throughout hospitalization course fever infectious disease patient history recurrent line wound infections patient sputum grew serratia pseudomonas sensitive meropenem tobramycin respectively gi patient j tube continued tube feeds throughout hospitalization hematology patient hematocrit remained stable access picc line placed arterial line central line removed retains quinton wound patient monitored plastic surgery wound dressing changed house dictated medquist36 job,xxbos admission date discharge date date birth sex service medicine allergies patient recorded known allergies drugs attending chief complaint cardiac arrest found field major surgical invasive procedure central line placed multiple resuscitations history present illness yo htn nephropathy p renal tx immunosuppressants h dm chf cad brought ed witnessed cardiac arrest per records family heard noise found pt c arm pain falling patient minutes ems arrived pt intubated field cpr initiated pt asystole received calcium bicarb albuterol epi atropine x transferred arrival patient sinus bp hr rr dropped bp hr femoral line placed dopamine started pt went pea arrest asystole given atropine x epi x4 bicarb calcium chloride ekg showed nl sinus rate nl axis peaked depressions ii v4 v6 cxr increased interstital markings labs notable k bun cr lactate ca po4 arrival icu bp hr pupils fixed dilated levophed neo vasopressin added bp support per family patient usoh incident icu bedside echo showed thickened lv rv effusion past medical history esrd hd tues thurs sat p lad ramus exercise mibi limited poor exercise tolerance definite evidence reversible perfusion defects slightly enlarged cavity size global hypokinesis lvef chf tte showed ef mild symmetric left ventricular hypertrophy overall left ventricular systolic function mildly depressed inferior hypokinesis moderate mitral regurgitation seen moderate pulmonary artery systolic hypertension htn dm2 followed hyperlipidemia gerd anemia baseline hematocrit tia aspirin social history per chart pt lives wife children work denies tobacco etoh drugs born raised lived years moving family history per chart htn diabetes heart disease physical exam vs hr bp vent x total peep fio2 gen intubated heent nc pupils fixed dilated cv regular nl s1s2 r g pulm fine crackles bilaterally abd protuberant soft nt nd renal transplant scar rlq extr lower extremities cool edema fistula lle w xxunk neuro pupils fixed dilated corneal reflexes withdraw pain pertinent results hematology pm blood wbc rbc hgb hct mcv mch mchc rdw plt ct pm blood neuts bands lymphs monos eos baso atyps metas myelos pm blood pt ptt inr pt chemistry pm blood glucose urean creat na k cl hco3 angap blood glucose urean creat na k hco3 pm blood alt ast ck cpk alkphos amylase totbili blood calcium phos mg blood cortsol cardiac enzymes pm blood ctropnt pm blood ck mb pm blood ck mb ctropnt arterial blood gas results pm blood type art po2 pco2 ph caltco2 base xs comment abg added blood type art po2 pco2 ph caltco2 base xs blood type art peep po2 pco2 ph caltco2 base xs intubat intubated vent controlled blood type art po2 pco2 ph caltco2 base xs pm blood glucose lactate na k cl calhco3 blood lactate brief hospital course femoral central line placed ed insulin drip started patient broadly covered empirically possible respiratory infection sepsis vanco levo zosyn coded ed ordered multiple pressors dopamine norepi vasopressin keep blood pressure within acceptable limits phenylephrine added time ccu multiple codes primarily pea asystole ccu patient continued unresponsive pupils fixed dilated family called plans care discussed early admission patient stabilized family felt full code appropriate patient recently p transplant well family gone home patient coded pea family called back attending discussed evolving situation worsening prognosis wife son wife room p resuscitation witnessed ongoing efforts stabilize treat patient several additional codes including many chest compressions courses acls medications appropriate evolving rhythms patient wife agreed resuscitation efforts suspended situation improve patient continued enter pea asystole soon expired family asked autopsy without brain findings order find led patient relatively sudden death medications admission prograf mg po bid transitioned rapamune myfortic valcyte qd bactrim ss nystatin prn protonix mg po qd rapamune mg po qd carvedilol mg po bid amlodipine mg po qd insulin units ad humalog ss discharge medications discharge disposition expired discharge diagnosis cardiac arrest leading death discharge condition expired discharge instructions n followup instructions n,xxbos admission date discharge date date birth sex f service neonatolog history present illness former gram product week gestation pregnancy born year old g1 p0 woman prenatal screens blood type positive antibody negative rpr nonreactive rubella immune hepatitis b surface antigen negative group beta strep status unknown estimated date confinement based last menstrual period first trimester ultrasound pregnancy uncomplicated intrauterine growth restriction noted fetal ultrasound extensive laboratory evaluation workup etiology growth restriction identified followed closely fetal biophysical profiles normal amniotic fluid volume day delivery amniotic fluid volume dropped fetus noted two heart rate decelerations underwent elective induction taken cesarean section concern fetal distress infant emerged spontaneous cry required blow oxygen apgars one minute five minutes transferred neonatal intensive care unit treatment prematurity physical examination admission neonatal intensive care unit weight grams less th percentile length cm th percentile head circumference cm less th percentile general nondysmorphic well appearing pre term infant head eyes ears nose throat anterior fontanelle soft level red reflex present bilaterally palate intact symmetric facial features chest breath sounds clear equal minimal retractions cardiovascular regular rate rhythm without murmur two plus peripheral pulses including femoral abdomen benign without hepatosplenomegaly small umbilical cord noted genitourinary normal female external genitalia consistent gestational age spine normal normal sacrum hips stable skin pink brisk capillary refill neuro normal tone responsiveness alert acute distress hospital course systems including pertinent laboratory data respiratory retractions tachypnea noted upon admission resolved within first eight hours life always remained room air throughout neonatal intensive care unit admission infrequent episodes apnea bradycardia last occurring cardiovascular maintained normal heart rates blood pressures admission soft murmur noted intermittently remains audible time discharge felt consistent peripheral pulmonic stenosis benign nature fluids electrolytes nutrition initial glucose required several dextrose boluses hypoglycemia resolved within hours birth initially npo maintained intravenous fluids parenteral feeds started day life number two gradually advanced full volume maximum caloric intake calories per ounce currently taking cc kg day breast milk enfamil fortified calories per ounce formula four calories concentration two calories corn oil breast milk four calories enfamil powder two calories corn oil serum electrolytes checked first week life within normal limits discharge weight kilograms pounds ounces length cm head circumference cm infectious disease due prematurity evaluated sepsis white blood cell count polys bands blood culture obtained treated antibiotics blood culture growth hours hematological initial hematocrit birth platelets blood type positive coombs negative platelet count fell day life one transfused platelets also received intravenous gamma globulin day life number four day life number seven required transfusion platelets counts less day third platelet transfusion platelet count within hours repeat count day life etiology thrombocytopenia consistent intrauterine growth restriction platelet antibody sent mother negative low hematocrit occurred reticulocyte count time repeat hematocrit gastrointestinal required treatment unconjugated hyperbilirubinemia phototherapy peak serum bilirubin occurred day life number one total mg dl treated phototherapy approximately five days rebound bilirubin day life nine total mg dl direct endocrine state screen sent thyroid stimulating hormone level reference range less xxunk per ml endocrine consult obtained repeat thyroid function tests showed definite clinical hypothyroidism treatment synthroid started significant part history mother treating wound dehiscence betadine packing theorized hypothyroidism may induced infant exposure iodine mother milk breast milk held one week breast feeding initiated thyroid function tests followed weekly slowly normalizing recent thyroid stimulating hormone normal range t3 free t4 normal range discharged home synthroid endocrine follow four weeks dr phone number thyroid function tests checked time neurology head ultrasounds obtained studies within normal limits neurological concerns time discharge sensory audiology hearing screening performed automated auditory brainstem responses passed ears ophthalmology retinal examination performed showing mature retinas bilaterally recommended follow eight months age condition discharge good discharge disposition home parents primary pediatrician dr pediatric associates phone number fax number appointment scheduled p recommendations discharge feeding enfamil calorie per ounce concentration two corn oil expressed mother milk fortified calories four enfamil powder plus two corn oil medications ferrous sulfate mg per ml dilution cc p q day levothyroxine mcg p q day car seat position screening performed infant observed minutes without episodes oxygen desaturation bradycardia state newborn screens sent except hypothyroidism previously mentioned results within normal limits state screen sent showed normal tsh t4 level immunizations administered date receive hepatitis b meet weight criteria yet immunizations recommended synagis rsv prophylaxis considered infants meet following three criteria born less weeks born weeks plan day care rsv season smoker household preschool sibs chronic lung disease influenza immunization considered annually fall preterm infants chronic lung disease reach six months age age family care givers considered immunization influenza protect infant follow appointments primary pediatrician dr dr four weeks discharge thyroid function tests drawn time including t4 thyroid binding globulin pediatric ophthalmology eight months age discharge diagnoses prematurity weeks gestation symmetric small gestational age transitional respiratory distress thrombocytopenia anemia suspicion sepsis ruled polycythemia unconjugated hyperbilirubinemia hypothyroidism reviewed dictated medquist36 job,xxbos admission date discharge date date birth sex f service cardiothoracic allergies penicillins nsaids attending chief complaint unstable angina major surgical invasive procedure two vessel coronary artery bypass grafting svg lad svg om1 aortic valve replacement mm pericardial bioprosthesis history present illness year old female presented right sided neck pain symptoms relieved sublingual nitroglycerin ruled myocardial infarction known coronary artery disease medical therapy cardiac catheterization significant severe three vessel coronary disease normal left ventricular function left main lesion lad stenosis circumflex ostial lesion plv pda stenoses subsequently transferred coronary revascularization past medical history paroxsymal atrial fibrillation chronic renal insufficiency hypertension cerebrovascular disease h tia known left carotid stenosis breast cancer p mastectomy p hysterectomy social history married lives husband denies tobacco etoh family history premature coronary disease physical exam vitals afebrile pulse bp rr sat room air general acute distress heent oropharynx benign moist mucous membranes chest wheezing noted decreased sounds bases heart regular rate rhythm murmur rub abdomen benign extremities warm edema wounds clean dry intact pertinent results pm pt ptt inr pt pm plt count pm wbc rbc hgb hct mcv mch mchc rdw pm glucose urea n creat sodium potassium chloride total co2 anion gap blood wbc rbc hgb hct mcv mch mchc rdw plt ct blood glucose urean creat na k cl hco3 angap blood pt ptt inr pt brief hospital course mrs admitted underwent routine preoperative evaluation included carotid ultrasound showed moderate plaque left internal carotid artery mild plaquing right internal carotid artery less addition disease right vertebral artery transthoracic echocardiogram also notable mild aortic valve stenosis mild aortic regurgitation mild symmetric left ventricular hypertrophy preserved global regional biventricular systolic function rest workup unremarkable cleared surgery two vessel coronary artery bypass grafting performed addition aortic valve replacement utilizing millimeter pericardial bioprosthesis operative course notable small coronary vessels along severe diffuse coronary calcifications therefore lima utilized pda xxunk operation otherwise uneventful brought cardiac sicu monitoring slow wean inotropic support amiodarone resumed atrial fibrillation rapid ventricular rate eventually extubated postoperative day three several days hemodynamics stablized went experience right upper extremity weakness left facial weakness head ct scan obtained ct scan notable large well circumscribed hypodense area encephalomalacia left frontal lobe chronic nature difficult exclude acute extension infarction area subseuqently kept hypertensive maintain cerebral xxunk warfarin therapy also resumed addition aspirin swallow evaluation showed signs aspiration initially difficulty regular solids due persistent atrial fibrillation underwent cardioversion remained oral amiodarone remained mostly normal sinus rhythm k mg levels monitored closely repleted per protocol due subtherapeutic inr temporarily maintained intravenous heparin clinical status gradually improved transferred sdu postoperative day nine amiodarone beta blockade continued intermittent episodes paroxsymal atrial fibrillation beta blockade titrated accordingly bradycardia given cerebrovascular disease kept somewhat hypertensive remained volume overloaded continued require diuresis responded well lasix discharge tolerating room air oxygen saturations discharge remained volume overloaded continue require diuresis warfarin dosed daily goal inr haldol intermittently required mild paranoia agitation mild confusion remainder hospital stay mental status slowly improved motor function made steady progress physical therapy repeat speech evaluation revealed much improvement eventually cleared discharge rehab postoperative day due incomplete revascularization need follow dr approximately weeks repeat stress test potential percutaneous coronary intervention stenting medications admission atenolol mg qd imdur mg qd lasix mg qd lexapro mg qd lipitor mg qd lisinopril mg qd aspirin warfarin mg qd discharge medications aspirin mg tablet delayed release e c sig one tablet delayed release e c po daily daily tablet delayed release e c docusate sodium mg capsule sig one capsule po bid times day pantoprazole sodium mg tablet delayed release e c sig one tablet delayed release e c po q24h every hours atorvastatin calcium mg tablet sig one tablet po daily daily escitalopram oxalate mg tablet sig one tablet po daily daily fluticasone propionate mcg actuation aerosol sig two puff inhalation times day warfarin sodium mg tablet sig one tablet po qpm daily dose may vary adjust goal inr albuterol mcg actuation aerosol sig puffs inhalation q4h every hours lisinopril mg tablet sig two tablet po daily daily levofloxacin mg tablet sig one tablet po q24h every hours days last dose metoprolol tartrate mg tablet sig one tablet po bid times day amiodarone mg tablet sig two tablet po day days continue two tablets mg days drop one tablet mg indefinite amount time furosemide mg tablet sig one tablet po q12h every hours days titrate according weight respiratory status potassium chloride meq capsule sustained release sig two capsule sustained release po q12h every hours days adjust according lasix dose maintain k greater albuterol sulfate solution sig inhalation q6h every hours needed haloperidol mg tablet sig one tablet po hs bedtime zolpidem tartrate mg tablet sig one tablet po hs bedtime needed discharge disposition extended care facility tt discharge diagnosis p avr cabg htn elevated cholesterol cerebrovascular disease h tia paf chronic renal insufficiency breast ca p mastectomy discharge condition stable discharge instructions patient may shower incision pat dry lotions cream driving one month lifting greater lbs least weeks followup instructions dr weeks dr weeks dr weeks stress test dr indicated completed\n",
              "y: LMLabelList\n",
              ",,,,\n",
              "Path: .;\n",
              "\n",
              "Valid: LabelList (10546 items)\n",
              "x: LMTextList\n",
              "xxbos admission date discharge date date birth sex service trauma history present illness patient year old male unrestrained driver involved high speed motor vehicle collision patient ejected car thrown approximately feet patient responsive commands coma scale time complaining headache chest discomfort dyspnea en route via patient became increasingly dyspneic hypotensive saturations intubated ems past medical history admitting medications allergies penicillin physical examination arrival patient temperature f blood pressure tachycardia intubated saturating multiple facial lacerations left ear avulsion pupils left pupil mm right pupil mm nonreactive neck without crepitus cervical collar place stepoffs deformities back chest right chest tube placed trauma bay left chest palpable deformities abdomen soft nondistended nontender xxunk decreased stool guaiac negative pelvis stable laboratory data laboratory data evaluation revealed white count hematocrit platelets electrolytes normal arterial blood gas revealed good oxygenation head ct scan cervical spine ct scan chest ct scan abdominal ct scan pelvic ct scan obtained injuries time included bilateral medial orbital fractures air right orbit avulsion left ear bilateral pulmonary contusions aortic transsection pneumomediastinum right chest tube place presumed hemothorax hemoperitoneum right liver lobe laceration right superior inferior pubic ramus infraction left forearm fracture head ct scan showed bleeds hospital course patient taken operating room exploratory laparotomy performed large hematoma evacuated intra abdominal injury revealed right inferior liver laceration abdomen packed fascia left open skin closed patient returned surgical intensive care unit stable condition point central venous access obtained cardiothoracic surgery neurosurgery consulted cardiothoracic surgery deemed patient unstable go operating room aortic transection repair neurosurgery thought given obvious focal intracranial pathology reasonable hold neuro checks maintain low systolic blood pressure awaiting stabilization cardiothoracic surgery plastic surgery consulted facial lacerations closed bedside orthopedic surgery consulted deferred treatment left radius fracture right pubic rami fractures urgent issues resolved patient remained stable returned operating room status post bronchoscopy bronchoscopy revealed contusion right greater left moderately thick mucus operating room patient abdominal packs removed wounds irrigated wound incision closed primarily ensuing days patient extremely course multiple bronchoscopies performed evacuation thick mucus patient respiratory status extremely tenuous requiring pressure controlled ventilation paralysis patient maintained venodyne prophylaxis zantac patient deemed unstable subcutaneous heparin patient began spiking fevers antibiotics including vancomycin levofloxacin started sputum growing pseudomonas ceptaz clindamycin added levofloxacin subsequently changed clindamycin patient started total parenteral nutrition tolerating tube feeds next days continued spike fevers respiratory status extremely tenuous bronchoscoped repeatedly continued antibiotics infectious disease consulted point fluconazole added antibiotic regimen time patient numerous line changes continued spike fevers patient antibiotics regimen changed ceptaz ciprofloxacin first patient continued spike temperatures high f copious secretions patient deemed stable enough undergo inferior vena cava filter placement reposition peg pej tolerated procedures well patient antibiotics discontinued although patient continued spike fevers blood pressure strictly controlled less systolic ultrasound performed showed upper extremity deep venous thrombosis patient continued total parenteral nutrition continued spike fevers continued bronchoscoped qod q day taken operating room orthopedic surgery open reduction internal fixation left radius fracture pinning patient tolerated procedure well stable back surgical intensive care unit patient respiratory status improved patient tolerating pressure support cpap routinely bronchoscoped began growing staphylococcus along lungs unfortunately began spiking fevers vancomycin ciprofloxacin flagyl resumed presumed pseudomonas pneumonia chest x ray revealed clear worsening pulmonary infiltrate vancomycin ceptaz ciprofloxacin flagyl continued fourteen day course patient sedation weaned became awake reactive respirations improved ceptaz ciprofloxacin discontinued patient remained vancomycin flagyl positive blood cultures question dental abscess dental consulted fourteen day course flagyl flagyl discontinued patient remains vancomycin date surgery patient taken operating room underwent repair aortic transsection tolerated procedure well stable intubated surgical intensive care unit medications point include vancomycin propofol nitroglycerin drip nipride drip labetalol drip zantac dilaudid clonidine patch ativan addendum discharge summary dictated medquist36 job admission date discharge date date birth sex service ct surgery addendum patient taken operating room cardiothoracic surgery underwent resection aortic aneurysm placement interposition graft procedure went without complication patient transported stable surgical intensive care unit remained perioperative vancomycin addition various medicines strict blood pressure control systolic agents included labetalol clonidine addition sedation propofol dilaudid patient tube feeds restarted tolerated well next several days patient extremely well subcutaneous lovenox restarted tolerating tube feeds various adjustments antihypertensive medications blood pressure controlled regimen clonidine mg four times day labetalol mg three times day clonidine patch mg enalapril mg twice day hydralazine mg three times day lopressor mg twice day lasix mg three times day medications discharge lovenox mg twice day paxil glutamine epogen iron vitamin e motrin potassium chloride serax fentanyl patch pain day discharge rehabilitation patient afebrile stable vital signs tolerating combination tracheostomy mask ventilation pressure support c pap ventilation tolerating tube feeds awake alert chest clear auscultation heart regular rate rhythm abdomen soft nontender nondistended extremities warm well perfused th discharged rehabilitation follow dr approximately one week discharge systolic blood pressure maintained mm mercury times staples removed prior discharge condition discharge stable discharge status patient discharged rehabilitation discharge diagnosis status post aortic resection interposition graft placement diagnosis liver laceration status post percutaneous endoscopic gastrostomy tube status post tracheostomy status post open reduction internal fixation radial fracture pulmonary contusion acute respiratory distress syndrome pseudomonal pneumonia fop follow appointments include dr one week orthopedic surgery one week well plastic reconstruction surgery otorhinolaryngology needed dictated medquist36 job name unit admission date discharge date date birth sex service addendum note imperative picc line taken soon patient completes intravenous course vancomycin line remain longer needed intravenous antibiotics experience last time seeding infection central line critical aortic graft dictated medquist36 job,xxbos admission date discharge date date birth sex service surgery allergies poison extract attending chief complaint p motor vehicle crash major surgical invasive procedure history present illness yo male unrestrained driver p motor vehicle crash building found scene gcs became combative intubated taken area hospital found brain bleed transferred care past medical history unknown social history resides west coast married parents involved live family history noncontributory physical exam gen aox3 appropriate non combative room w sitter heent perla neck tenderness resp ctab cv rrr ab bs soft nt nd ext pulses bilat neuro strenght sensation intact throughout pertinent results glucose urea n creat sodium potassium chloride total co2 anion gap phenytoin wbc rbc hgb hct mcv mch mchc rdw pt ptt inr pt plt count asa neg ethanol acetmnphn neg bnzodzpn pos barbitrt neg tricyclic neg wbc rbc hgb hct mcv mch mchc rdw ct head w contrast impression multiple intraparenchymal hemorrhage small amount left frontotemporal subarachnoid blood prior available evaluate progression chest portable ap impression acute disease apparent pneumothorax cardiology report ecg study date sinus rhythm normal tracing previous tracing available comparison intervals axes rate pr qrs qt qtc p qrs brief hospital course admitted trauma service neurosurgery consulted given subarachnoid intraparenchymal hemorrhages loaded dilantin remain total weeks neurosugery request follow dr repeat head imaging head injury behavioral issues became agitated require haldol controlled behaviors security sitters initially place discontinued physical occupational therapy consulted recommended short term rehab stay social work consulted emotional support patient family also use alcohol associated crash discharge medications acetaminophen mg tablet sig two tablet po every hours needed headache phenytoin sodium extended mg capsule sig one capsule po tid times day weeks trazodone mg tablet sig one tablet po hs bedtime oxycodone mg tablet sig tablets po every four hours needed pain colace mg capsule sig one capsule po twice day milk magnesia mg ml suspension sig thirty ml po twice day needed constipation haloperidol mg tablet sig tablet po bid times day discharge disposition extended care facility discharge diagnosis p motor vehicle crash multiple intraparenchymal hemmorrhages small subarachnoid hemmorhage discharge condition good discharge instructions continue dilantin total weeks expect intermittent headaches dizziness short term memory loss head injury return emergency room develop severe headaches go away increased dizziness visual disturbances nause vomiting symptoms conerning followup instructions follow dr neurosurgery weeks call appointment inform office need repeat head ct scan prior appointment,xxbos admission date discharge date date birth sex f service orthopaedics allergies cephalexin bacitracin cephalosporins naproxen nsaids adhesive tape attending chief complaint p fall l periprosthetic femur fracture major surgical invasive procedure orif left periprosthetic femur fracture xxunk left hip revision long stem femoral component plate cerclage wires history present illness ms year old female left hip replacement fell x2 rehab falls unprovoked first second reports times walking walker fell backwards presentes evaluation care past medical history copd pack years hypothyroidism currently treatment dm diet controlled hiatal hernia gerd ppi chronic lbp p l hip replacement restless leg syndrome depression social history smoker pack years h etoh abuse last drink lives alone daughters local family history father died lung cancer mother died physical exam avss gen nad heart rrr lungs ctab abd ntnd bs ext incision c peripheral pulses c c e pertinent results pm hgb hct pm hgb hct pm glucose urea n creat sodium potassium chloride total co2 anion gap pm estgfr using pm ck cpk pm ctropnt md phone date time md completed,xxbos admission date discharge date date birth sex service surgery history present illness patient year old gentleman shortly prior admission previously good health developed left scapular discomfort left arm paresthesias well mild weakness fingers chest x ray showed questionable nodule ct scan confirmed presence multiple lung metastases well left thyroid mass abutting obstructive lesion t2 vertebra fine needle aspiration left thyroid mass consistent microfollicular neoplasm suspicious carcinoma patient scheduled thyroidectomy receive iodine referred dr procedure past medical history hypertension past surgical history status post laparoscopic cholecystectomy medications admission norvasc physical examination physical examination,xxbos admission date discharge date date birth sex f service history present illness year old female history coronary artery disease status post coronary artery bypass graft also history congestive heart failure type diabetes hypothyroidism hypertension initially presented clearance c2 fracture back status post mechanical fall cleared surgery switched coumadin heparin time requested go home surgery electively scheduled transoral resection odontoid associated second soft tissues received units packed red blood cells extubated given high dose narcotics pain management hypercarbic respiratory failure arterial blood gas demonstrating two episodes bradycardia secondary vagal stimuli pulseless electrical activity asystole arrest brought back codes electrophysiology consulted electrophysiology placed pacer wire temporary also maintained broad spectrum antibiotics lower extremity cellulitis transferred surgery service medical intensive care unit management renal failure well difficulty wean medical intensive care unit course complicated worsening mental status ongoing acute renal failure mental status questionably attributed narcosis versus uremia narcotics held time ct scan head obtained ongoing mental status changes massive cerebral hemorrhage noted time obstructing fourth ventricle neurosurgery consulted ventriculostomy drain placed bedside however patient remained neurogenic shock continued demonstrate unresponsiveness objective clinical measures remained pressor dependent keep mean arterial pressure greater code status changed resuscitate intubate remained neurogenic shock apnea test positive corneal reflexes pupillary reflexes absent p patient found unresponsiveness following cardiac arrest expired time family denied postmortem examinations md dictated medquist36 job\n",
              "y: LMLabelList\n",
              ",,,,\n",
              "Path: .;\n",
              "\n",
              "Test: None, model=SequentialRNN(\n",
              "  (0): AWD_LSTM(\n",
              "    (encoder): Embedding(54605, 400, padding_idx=1)\n",
              "    (encoder_dp): EmbeddingDropout(\n",
              "      (emb): Embedding(54605, 400, padding_idx=1)\n",
              "    )\n",
              "    (rnns): ModuleList(\n",
              "      (0): WeightDropout(\n",
              "        (module): LSTM(400, 1150, batch_first=True)\n",
              "      )\n",
              "      (1): WeightDropout(\n",
              "        (module): LSTM(1150, 1150, batch_first=True)\n",
              "      )\n",
              "      (2): WeightDropout(\n",
              "        (module): LSTM(1150, 400, batch_first=True)\n",
              "      )\n",
              "    )\n",
              "    (input_dp): RNNDropout()\n",
              "    (hidden_dps): ModuleList(\n",
              "      (0): RNNDropout()\n",
              "      (1): RNNDropout()\n",
              "      (2): RNNDropout()\n",
              "    )\n",
              "  )\n",
              "  (1): LinearDecoder(\n",
              "    (decoder): Linear(in_features=400, out_features=54605, bias=True)\n",
              "    (output_dp): RNNDropout()\n",
              "  )\n",
              "), opt_func=functools.partial(<class 'torch.optim.adam.Adam'>, betas=(0.9, 0.99)), loss_func=FlattenedLoss of CrossEntropyLoss(), metrics=[<function accuracy at 0x7f02512f5158>], true_wd=True, bn_wd=True, wd=0.01, train_bn=True, path=PosixPath('.'), model_dir='models', callback_fns=[functools.partial(<class 'fastai.basic_train.Recorder'>, add_time=True)], callbacks=[RNNTrainer\n",
              "learn: ...\n",
              "alpha: 2.0\n",
              "beta: 1.0], layer_groups=[Sequential(\n",
              "  (0): WeightDropout(\n",
              "    (module): LSTM(400, 1150, batch_first=True)\n",
              "  )\n",
              "  (1): RNNDropout()\n",
              "), Sequential(\n",
              "  (0): WeightDropout(\n",
              "    (module): LSTM(1150, 1150, batch_first=True)\n",
              "  )\n",
              "  (1): RNNDropout()\n",
              "), Sequential(\n",
              "  (0): WeightDropout(\n",
              "    (module): LSTM(1150, 400, batch_first=True)\n",
              "  )\n",
              "  (1): RNNDropout()\n",
              "), Sequential(\n",
              "  (0): Embedding(54605, 400, padding_idx=1)\n",
              "  (1): EmbeddingDropout(\n",
              "    (emb): Embedding(54605, 400, padding_idx=1)\n",
              "  )\n",
              "  (2): LinearDecoder(\n",
              "    (decoder): Linear(in_features=400, out_features=54605, bias=True)\n",
              "    (output_dp): RNNDropout()\n",
              "  )\n",
              ")], add_time=True)"
            ]
          },
          "metadata": {}
        }
      ],
      "execution_count": 25,
      "metadata": {}
    },
    {
      "cell_type": "code",
      "source": [
        "learn.unfreeze()\n",
        "learn.fit_one_cycle(10, 1e-3, moms=(0.8,0.7))"
      ],
      "outputs": [
        {
          "output_type": "display_data",
          "data": {
            "text/html": [
              "<table border=\"1\" class=\"dataframe\">\n",
              "  <thead>\n",
              "    <tr style=\"text-align: left;\">\n",
              "      <th>epoch</th>\n",
              "      <th>train_loss</th>\n",
              "      <th>valid_loss</th>\n",
              "      <th>accuracy</th>\n",
              "      <th>time</th>\n",
              "    </tr>\n",
              "  </thead>\n",
              "  <tbody>\n",
              "    <tr>\n",
              "      <td>0</td>\n",
              "      <td>3.641180</td>\n",
              "      <td>3.523966</td>\n",
              "      <td>0.407840</td>\n",
              "      <td>27:22</td>\n",
              "    </tr>\n",
              "    <tr>\n",
              "      <td>1</td>\n",
              "      <td>3.347990</td>\n",
              "      <td>3.323050</td>\n",
              "      <td>0.429657</td>\n",
              "      <td>27:20</td>\n",
              "    </tr>\n",
              "    <tr>\n",
              "      <td>2</td>\n",
              "      <td>3.217284</td>\n",
              "      <td>3.203426</td>\n",
              "      <td>0.442517</td>\n",
              "      <td>27:21</td>\n",
              "    </tr>\n",
              "    <tr>\n",
              "      <td>3</td>\n",
              "      <td>3.136537</td>\n",
              "      <td>3.127950</td>\n",
              "      <td>0.450653</td>\n",
              "      <td>27:22</td>\n",
              "    </tr>\n",
              "    <tr>\n",
              "      <td>4</td>\n",
              "      <td>3.115288</td>\n",
              "      <td>3.080927</td>\n",
              "      <td>0.456001</td>\n",
              "      <td>27:20</td>\n",
              "    </tr>\n",
              "    <tr>\n",
              "      <td>5</td>\n",
              "      <td>3.068339</td>\n",
              "      <td>3.045128</td>\n",
              "      <td>0.460350</td>\n",
              "      <td>27:17</td>\n",
              "    </tr>\n",
              "    <tr>\n",
              "      <td>6</td>\n",
              "      <td>2.966728</td>\n",
              "      <td>3.019067</td>\n",
              "      <td>0.463729</td>\n",
              "      <td>27:17</td>\n",
              "    </tr>\n",
              "    <tr>\n",
              "      <td>7</td>\n",
              "      <td>2.972884</td>\n",
              "      <td>3.000803</td>\n",
              "      <td>0.466080</td>\n",
              "      <td>27:18</td>\n",
              "    </tr>\n",
              "    <tr>\n",
              "      <td>8</td>\n",
              "      <td>2.852494</td>\n",
              "      <td>2.993196</td>\n",
              "      <td>0.467401</td>\n",
              "      <td>27:18</td>\n",
              "    </tr>\n",
              "    <tr>\n",
              "      <td>9</td>\n",
              "      <td>2.829775</td>\n",
              "      <td>2.992503</td>\n",
              "      <td>0.467548</td>\n",
              "      <td>27:17</td>\n",
              "    </tr>\n",
              "  </tbody>\n",
              "</table>"
            ],
            "text/plain": [
              "<IPython.core.display.HTML object>"
            ]
          },
          "metadata": {}
        }
      ],
      "execution_count": 26,
      "metadata": {}
    },
    {
      "cell_type": "code",
      "source": [
        "learn.save_encoder('fine_tuned_enc')"
      ],
      "outputs": [],
      "execution_count": 27,
      "metadata": {}
    },
    {
      "cell_type": "markdown",
      "source": [
        "### Data classifier"
      ],
      "metadata": {}
    },
    {
      "cell_type": "code",
      "source": [
        "data_clas.show_batch()"
      ],
      "outputs": [
        {
          "output_type": "display_data",
          "data": {
            "text/html": [
              "<table border=\"1\" class=\"dataframe\">\n",
              "  <thead>\n",
              "    <tr style=\"text-align: right;\">\n",
              "      <th>text</th>\n",
              "      <th>target</th>\n",
              "    </tr>\n",
              "  </thead>\n",
              "  <tbody>\n",
              "    <tr>\n",
              "      <td>xxbos admission date discharge date date birth sex f service surgery allergies patient recorded known allergies drugs attending chief complaint severe pancreatitis major surgical invasive procedure picc placement percutaneous tracheostomy history present illness year old female woke morning severe periumbilical abdominal pain nausea vomitting vomitted times reports blood pain became epigastric nature radiate stayed midline abdomen reports normal bowel movements diarrhea ruq pain usoh time denies concerns presented day vitals</td>\n",
              "      <td>4019;4280;5849;51881;5990;2859;2762;5119;42789</td>\n",
              "    </tr>\n",
              "    <tr>\n",
              "      <td>xxbos admission date discharge date date birth sex f service neurosurgery allergies penicillins attending chief complaint sudden onset headache major surgical invasive procedure angiogram x coiling aneurysm placement right frontal external ventricular drain history present illness patient yo khmer speaking rhw htn dm hypercholesterolemia developed sudden severe ha around pm last night per daughter lives patient usual self watching television suddenly complained severe headache grabbed daughter expressing pain also complained</td>\n",
              "      <td>4019;25000;5990;2720;2851;2762</td>\n",
              "    </tr>\n",
              "    <tr>\n",
              "      <td>xxbos admission date discharge date date birth sex f service medicine allergies penicillins imuran cephalosporins sulfa sulfonamide antibiotics reglan latex ampicillin lactose soy lentals beans attending chief complaint dyspnea shortness breath reason micu transfer dyspnea respiratory distress major surgical invasive procedure cardiac catheterization history present illness pleasant year old indian female complicated past medical history significant type iddm p revision renal pancraes transplants diastolic chf echo sleep disordered breathing l</td>\n",
              "      <td>4280;42731;5849;2449;2762;5859;412;2761;32723</td>\n",
              "    </tr>\n",
              "    <tr>\n",
              "      <td>xxbos admission date discharge date date birth sex service reason admission patient admitted hypotension history present illness patient year old gentleman history cadaveric renal transplant type diabetes coronary artery disease status post silent anteroseptal myocardial infarction recent ejection fraction recently admitted surgery service time treated diverticulitis acute renal failure secondary acute tubular necrosis treated ampicillin levaquin flagyl discharged rehabilitation patient presented emergency department rehabilitation decreased systolic blood pressures acute renal</td>\n",
              "      <td>4280;0389;5845</td>\n",
              "    </tr>\n",
              "    <tr>\n",
              "      <td>xxbos admission date discharge date date birth sex f service medicine allergies penicillins sulfa sulfonamide antibiotics iodine iodine containing tetanus codeine zyvox plaquenil vibramycin attending chief complaint chief complaint altered mental status fevers reason icu admission hypotension major surgical invasive procedure history present illness year old female pmh dm2 asthma pvd rheumatoid arthritis ulcerative colitis multiple non healing ulcers sacral decubitus ulcers presenting evaluation altered mental status fevers noted patient</td>\n",
              "      <td>4019;5849;2724;5990;2449;0389;311;49390</td>\n",
              "    </tr>\n",
              "  </tbody>\n",
              "</table>"
            ],
            "text/plain": [
              "<IPython.core.display.HTML object>"
            ]
          },
          "metadata": {}
        }
      ],
      "execution_count": 28,
      "metadata": {}
    },
    {
      "cell_type": "code",
      "source": [
        "learn = text_classifier_learner(data_clas,AWD_LSTM, drop_mult=0.5)\n",
        "learn.load_encoder('fine_tuned_enc')\n",
        "learn.freeze()"
      ],
      "outputs": [],
      "execution_count": 30,
      "metadata": {}
    },
    {
      "cell_type": "code",
      "source": [
        "learn.lr_find()\n",
        "learn.recorder.plot()"
      ],
      "outputs": [
        {
          "output_type": "display_data",
          "data": {
            "text/html": [],
            "text/plain": [
              "<IPython.core.display.HTML object>"
            ]
          },
          "metadata": {}
        },
        {
          "output_type": "stream",
          "name": "stdout",
          "text": [
            "LR Finder is complete, type {learner_name}.recorder.plot() to see the graph.\n"
          ]
        },
        {
          "output_type": "display_data",
          "data": {
            "image/png": "[encoded data removed]",
            "text/plain": [
              "<Figure size 432x288 with 1 Axes>"
            ]
          },
          "metadata": {
            "needs_background": "light"
          }
        }
      ],
      "execution_count": 31,
      "metadata": {}
    },
    {
      "cell_type": "code",
      "source": [
        "learn.fit_one_cycle(1, 2e-2, moms=(0.8,0.7))"
      ],
      "outputs": [
        {
          "output_type": "display_data",
          "data": {
            "text/html": [
              "<table border=\"1\" class=\"dataframe\">\n",
              "  <thead>\n",
              "    <tr style=\"text-align: left;\">\n",
              "      <th>epoch</th>\n",
              "      <th>train_loss</th>\n",
              "      <th>valid_loss</th>\n",
              "      <th>time</th>\n",
              "    </tr>\n",
              "  </thead>\n",
              "  <tbody>\n",
              "    <tr>\n",
              "      <td>0</td>\n",
              "      <td>0.214971</td>\n",
              "      <td>0.211022</td>\n",
              "      <td>11:15</td>\n",
              "    </tr>\n",
              "  </tbody>\n",
              "</table>"
            ],
            "text/plain": [
              "<IPython.core.display.HTML object>"
            ]
          },
          "metadata": {}
        }
      ],
      "execution_count": 39,
      "metadata": {}
    },
    {
      "cell_type": "code",
      "source": [
        "learn.save('first')"
      ],
      "outputs": [],
      "execution_count": 40,
      "metadata": {}
    },
    {
      "cell_type": "code",
      "source": [
        "learn.load('first');"
      ],
      "outputs": [],
      "execution_count": 41,
      "metadata": {}
    },
    {
      "cell_type": "code",
      "source": [
        "learn.freeze_to(-2)\n",
        "learn.fit_one_cycle(1, slice(1e-2/(2.6**4),1e-2), moms=(0.8,0.7))"
      ],
      "outputs": [
        {
          "output_type": "display_data",
          "data": {
            "text/html": [
              "<table border=\"1\" class=\"dataframe\">\n",
              "  <thead>\n",
              "    <tr style=\"text-align: left;\">\n",
              "      <th>epoch</th>\n",
              "      <th>train_loss</th>\n",
              "      <th>valid_loss</th>\n",
              "      <th>time</th>\n",
              "    </tr>\n",
              "  </thead>\n",
              "  <tbody>\n",
              "    <tr>\n",
              "      <td>0</td>\n",
              "      <td>0.196819</td>\n",
              "      <td>0.184657</td>\n",
              "      <td>12:57</td>\n",
              "    </tr>\n",
              "  </tbody>\n",
              "</table>"
            ],
            "text/plain": [
              "<IPython.core.display.HTML object>"
            ]
          },
          "metadata": {}
        }
      ],
      "execution_count": 42,
      "metadata": {}
    },
    {
      "cell_type": "code",
      "source": [
        "learn.save('second')"
      ],
      "outputs": [],
      "execution_count": 43,
      "metadata": {}
    },
    {
      "cell_type": "code",
      "source": [
        "learn.load('second');"
      ],
      "outputs": [],
      "execution_count": 44,
      "metadata": {}
    },
    {
      "cell_type": "code",
      "source": [
        "learn.freeze_to(-3)\n",
        "learn.fit_one_cycle(1, slice(5e-3/(2.6**4),5e-3), moms=(0.8,0.7))"
      ],
      "outputs": [
        {
          "output_type": "display_data",
          "data": {
            "text/html": [
              "<table border=\"1\" class=\"dataframe\">\n",
              "  <thead>\n",
              "    <tr style=\"text-align: left;\">\n",
              "      <th>epoch</th>\n",
              "      <th>train_loss</th>\n",
              "      <th>valid_loss</th>\n",
              "      <th>time</th>\n",
              "    </tr>\n",
              "  </thead>\n",
              "  <tbody>\n",
              "    <tr>\n",
              "      <td>0</td>\n",
              "      <td>0.197925</td>\n",
              "      <td>0.180744</td>\n",
              "      <td>20:32</td>\n",
              "    </tr>\n",
              "  </tbody>\n",
              "</table>"
            ],
            "text/plain": [
              "<IPython.core.display.HTML object>"
            ]
          },
          "metadata": {}
        }
      ],
      "execution_count": 45,
      "metadata": {}
    },
    {
      "cell_type": "code",
      "source": [
        "learn.save('third')\n",
        "learn.load('third');"
      ],
      "outputs": [],
      "execution_count": 46,
      "metadata": {}
    },
    {
      "cell_type": "code",
      "source": [
        "learn.unfreeze()\n",
        "learn.fit_one_cycle(2, slice(1e-3/(2.6**4),1e-3), moms=(0.8,0.7))"
      ],
      "outputs": [
        {
          "output_type": "display_data",
          "data": {
            "text/html": [
              "<table border=\"1\" class=\"dataframe\">\n",
              "  <thead>\n",
              "    <tr style=\"text-align: left;\">\n",
              "      <th>epoch</th>\n",
              "      <th>train_loss</th>\n",
              "      <th>valid_loss</th>\n",
              "      <th>time</th>\n",
              "    </tr>\n",
              "  </thead>\n",
              "  <tbody>\n",
              "    <tr>\n",
              "      <td>0</td>\n",
              "      <td>0.191020</td>\n",
              "      <td>0.173701</td>\n",
              "      <td>24:42</td>\n",
              "    </tr>\n",
              "    <tr>\n",
              "      <td>1</td>\n",
              "      <td>0.182383</td>\n",
              "      <td>0.172513</td>\n",
              "      <td>23:21</td>\n",
              "    </tr>\n",
              "  </tbody>\n",
              "</table>"
            ],
            "text/plain": [
              "<IPython.core.display.HTML object>"
            ]
          },
          "metadata": {}
        }
      ],
      "execution_count": 47,
      "metadata": {}
    },
    {
      "cell_type": "code",
      "source": [
        "learn.save('fourth')"
      ],
      "outputs": [],
      "execution_count": 48,
      "metadata": {}
    },
    {
      "cell_type": "markdown",
      "source": [
        "### Evaluate results\n"
      ],
      "metadata": {}
    },
    {
      "cell_type": "code",
      "source": [
        "y_pred, y_true =  learn.get_preds()"
      ],
      "outputs": [],
      "execution_count": 80,
      "metadata": {}
    },
    {
      "cell_type": "code",
      "source": [
        "f1_score(y_true, y_pred>0.35, average='micro')"
      ],
      "outputs": [
        {
          "output_type": "execute_result",
          "execution_count": 81,
          "data": {
            "text/plain": [
              "0.5794276687526582"
            ]
          },
          "metadata": {}
        }
      ],
      "execution_count": 81,
      "metadata": {}
    },
    {
      "cell_type": "code",
      "source": [
        "f1_score(y_true, y_pred>0.35, average='macro')"
      ],
      "outputs": [
        {
          "output_type": "stream",
          "name": "stderr",
          "text": [
            "/home/oren/anaconda3/lib/python3.7/site-packages/sklearn/metrics/classification.py:1143: UndefinedMetricWarning: F-score is ill-defined and being set to 0.0 in labels with no predicted samples.\n",
            "  'precision', 'predicted', average, warn_for)\n"
          ]
        },
        {
          "output_type": "execute_result",
          "execution_count": 82,
          "data": {
            "text/plain": [
              "0.4319794273917511"
            ]
          },
          "metadata": {}
        }
      ],
      "execution_count": 82,
      "metadata": {}
    },
    {
      "cell_type": "code",
      "source": [
        "f1_score(y_true, y_pred>0.35, average='weighted')"
      ],
      "outputs": [
        {
          "output_type": "execute_result",
          "execution_count": 83,
          "data": {
            "text/plain": [
              "0.5264502900017759"
            ]
          },
          "metadata": {}
        }
      ],
      "execution_count": 83,
      "metadata": {}
    },
    {
      "cell_type": "code",
      "source": [
        "roc_auc_score(y_true, y_pred)"
      ],
      "outputs": [
        {
          "output_type": "execute_result",
          "execution_count": 85,
          "data": {
            "text/plain": [
              "0.8830364820356155"
            ]
          },
          "metadata": {}
        }
      ],
      "execution_count": 85,
      "metadata": {}
    },
    {
      "cell_type": "code",
      "source": [
        "average_precision_score(y_true, y_pred)"
      ],
      "outputs": [
        {
          "output_type": "execute_result",
          "execution_count": 99,
          "data": {
            "text/plain": [
              "0.4833601055598395"
            ]
          },
          "metadata": {}
        }
      ],
      "execution_count": 99,
      "metadata": {}
    },
    {
      "cell_type": "code",
      "source": [
        "y_true = y_true.numpy()\n",
        "scores = y_pred.numpy()"
      ],
      "outputs": [],
      "execution_count": 87,
      "metadata": {}
    },
    {
      "cell_type": "code",
      "source": [
        "scores.shape, y_true.shape"
      ],
      "outputs": [
        {
          "output_type": "execute_result",
          "execution_count": 88,
          "data": {
            "text/plain": [
              "((10546, 50), (10546, 50))"
            ]
          },
          "metadata": {}
        }
      ],
      "execution_count": 88,
      "metadata": {}
    },
    {
      "cell_type": "code",
      "source": [
        "metrics = classification_report(y_true, scores>0.35, target_names=data_clas.valid_ds.classes)\n",
        "print(metrics)"
      ],
      "outputs": [
        {
          "output_type": "stream",
          "name": "stdout",
          "text": [
            "              precision    recall  f1-score   support\n",
            "\n",
            "        4019       0.70      0.84      0.77      3979\n",
            "        4280       0.73      0.77      0.75      2594\n",
            "       42731       0.85      0.84      0.85      2487\n",
            "       41401       0.79      0.83      0.81      2450\n",
            "        5849       0.57      0.64      0.61      1800\n",
            "       25000       0.64      0.77      0.70      1787\n",
            "        2724       0.61      0.63      0.62      1773\n",
            "       51881       0.58      0.55      0.57      1432\n",
            "        5990       0.69      0.55      0.61      1325\n",
            "       53081       0.66      0.55      0.60      1228\n",
            "        2720       0.47      0.26      0.33      1130\n",
            "        2859       0.25      0.00      0.00      1025\n",
            "        2449       0.72      0.81      0.76      1004\n",
            "         486       0.43      0.28      0.34       972\n",
            "        2851       0.62      0.43      0.51       929\n",
            "        2762       0.44      0.10      0.16       868\n",
            "         496       0.51      0.30      0.38       829\n",
            "       99592       0.63      0.58      0.61       767\n",
            "       V5861       0.55      0.49      0.52       771\n",
            "        5070       0.64      0.44      0.52       702\n",
            "        0389       0.54      0.43      0.48       712\n",
            "        5859       0.52      0.52      0.52       681\n",
            "       40390       0.58      0.60      0.59       687\n",
            "         311       0.32      0.02      0.05       689\n",
            "        3051       0.62      0.05      0.08       644\n",
            "         412       0.38      0.16      0.22       666\n",
            "        2875       0.31      0.02      0.04       594\n",
            "       41071       0.51      0.37      0.43       635\n",
            "        2761       0.56      0.02      0.05       582\n",
            "       V4581       0.70      0.69      0.70       582\n",
            "        4240       0.69      0.31      0.43       538\n",
            "       V1582       0.21      0.01      0.01       569\n",
            "        5119       0.48      0.11      0.18       538\n",
            "       V4582       0.58      0.43      0.50       537\n",
            "       40391       0.69      0.65      0.67       510\n",
            "        V290       0.69      0.97      0.81       496\n",
            "        4241       0.72      0.70      0.71       513\n",
            "       78552       0.57      0.53      0.55       485\n",
            "       V5867       0.48      0.17      0.25       539\n",
            "       42789       0.00      0.00      0.00       482\n",
            "       32723       0.73      0.58      0.65       493\n",
            "        9971       0.42      0.18      0.25       468\n",
            "        5845       0.40      0.18      0.25       402\n",
            "        2760       0.45      0.13      0.20       414\n",
            "        7742       0.76      0.96      0.85       435\n",
            "        5180       0.00      0.00      0.00       432\n",
            "        V053       0.63      0.94      0.76       404\n",
            "        4168       0.39      0.13      0.19       446\n",
            "       49390       0.33      0.05      0.08       415\n",
            "        2767       0.55      0.05      0.09       428\n",
            "\n",
            "   micro avg       0.65      0.52      0.58     45868\n",
            "   macro avg       0.54      0.41      0.43     45868\n",
            "weighted avg       0.59      0.52      0.53     45868\n",
            " samples avg       0.58      0.49      0.50     45868\n",
            "\n"
          ]
        },
        {
          "output_type": "stream",
          "name": "stderr",
          "text": [
            "/home/oren/anaconda3/lib/python3.7/site-packages/sklearn/metrics/classification.py:1143: UndefinedMetricWarning: Precision and F-score are ill-defined and being set to 0.0 in labels with no predicted samples.\n",
            "  'precision', 'predicted', average, warn_for)\n",
            "/home/oren/anaconda3/lib/python3.7/site-packages/sklearn/metrics/classification.py:1143: UndefinedMetricWarning: Precision and F-score are ill-defined and being set to 0.0 in samples with no predicted labels.\n",
            "  'precision', 'predicted', average, warn_for)\n",
            "/home/oren/anaconda3/lib/python3.7/site-packages/sklearn/metrics/classification.py:1145: UndefinedMetricWarning: Recall and F-score are ill-defined and being set to 0.0 in samples with no true labels.\n",
            "  'recall', 'true', average, warn_for)\n"
          ]
        }
      ],
      "execution_count": 89,
      "metadata": {}
    }
  ],
  "metadata": {
    "kernelspec": {
      "name": "python2",
      "language": "python",
      "display_name": "Python 2"
    },
    "language_info": {
      "mimetype": "text/x-python",
      "nbconvert_exporter": "python",
      "name": "python",
      "pygments_lexer": "ipython2",
      "version": "2.7.15",
      "file_extension": ".py",
      "codemirror_mode": {
        "version": 2,
        "name": "ipython"
      }
    },
    "kernel_info": {
      "name": "python2"
    },
    "nteract": {
      "version": "0.12.3"
    }
  },
  "nbformat": 4,
  "nbformat_minor": 2
}